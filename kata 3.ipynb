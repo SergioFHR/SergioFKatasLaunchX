{
 "cells": [
  {
   "cell_type": "markdown",
   "metadata": {},
   "source": [
    "# ejercicio 1"
   ]
  },
  {
   "cell_type": "code",
   "execution_count": 2,
   "metadata": {},
   "outputs": [
    {
     "name": "stdout",
     "output_type": "stream",
     "text": [
      "¡Advertencia! Un asteroide se acerca a la Tierra demasiado rápido\n"
     ]
    }
   ],
   "source": [
    "asteroide = 49\n",
    "if asteroide > 25:\n",
    "    print (\"¡Advertencia! Un asteroide se acerca a la Tierra demasiado rápido\")\n",
    "else:\n",
    "    print (\"Un asteroide se acerca a la Tierra, No Pasa Nada\")\n",
    "\n"
   ]
  },
  {
   "cell_type": "markdown",
   "metadata": {},
   "source": [
    "# ejercicio 2"
   ]
  },
  {
   "cell_type": "code",
   "execution_count": 7,
   "metadata": {},
   "outputs": [
    {
     "name": "stdout",
     "output_type": "stream",
     "text": [
      "No se ve nada\n"
     ]
    }
   ],
   "source": [
    "asteroide = 19\n",
    "if asteroide > 20:\n",
    "    print(\" ¡Mira! un rayo de luz, es un asteroide\")\n",
    "elif asteroide == 20:\n",
    "    print(\" ¡Mira! un rayo de luz, es un asteroide\")\n",
    "else:\n",
    "        print(\"No se ve nada\")\n",
    "\n"
   ]
  },
  {
   "cell_type": "markdown",
   "metadata": {},
   "source": [
    "# ejercicio 3"
   ]
  },
  {
   "cell_type": "code",
   "execution_count": 55,
   "metadata": {},
   "outputs": [
    {
     "name": "stdout",
     "output_type": "stream",
     "text": [
      "¡Mira! un rayo de luz, es un asteroide\n"
     ]
    }
   ],
   "source": [
    "tamaño_asteroide = 40\n",
    "velocidad_asteroide = 22\n",
    "if tamaño_asteroide > 25 and velocidad_asteroide > 25:   \n",
    " print(\"¡Advertencia! Un asteroide se acerca a la Tierra demasiado grande y rápido\")\n",
    "elif velocidad_asteroide >= 20:\n",
    "        print(\"¡Mira! un rayo de luz, es un asteroide\")\n",
    "elif tamaño_asteroide < 25:\n",
    "    print(\"No se ve nada\")\n",
    "else:\n",
    "    print(\"no paso nada\")"
   ]
  }
 ],
 "metadata": {
  "interpreter": {
   "hash": "8f0d33bffcc67d79ada580c025bbf01874aaedaf347a5c4dff20cc46ee67b68d"
  },
  "kernelspec": {
   "display_name": "Python 3.10.2 64-bit",
   "language": "python",
   "name": "python3"
  },
  "language_info": {
   "codemirror_mode": {
    "name": "ipython",
    "version": 3
   },
   "file_extension": ".py",
   "mimetype": "text/x-python",
   "name": "python",
   "nbconvert_exporter": "python",
   "pygments_lexer": "ipython3",
   "version": "3.9.10"
  },
  "orig_nbformat": 4
 },
 "nbformat": 4,
 "nbformat_minor": 2
}
